{
  "nbformat": 4,
  "nbformat_minor": 0,
  "metadata": {
    "colab": {
      "provenance": [],
      "authorship_tag": "ABX9TyMjJVkrPObUsgpuxu1un6P/",
      "include_colab_link": true
    },
    "kernelspec": {
      "name": "python3",
      "display_name": "Python 3"
    },
    "language_info": {
      "name": "python"
    }
  },
  "cells": [
    {
      "cell_type": "markdown",
      "metadata": {
        "id": "view-in-github",
        "colab_type": "text"
      },
      "source": [
        "<a href=\"https://colab.research.google.com/github/hasun/pyStat/blob/master/PyStat_3_1_%EB%8D%B0%EC%9D%B4%ED%84%B0%EB%B6%84%EC%84%9D.ipynb\" target=\"_parent\"><img src=\"https://colab.research.google.com/assets/colab-badge.svg\" alt=\"Open In Colab\"/></a>"
      ]
    },
    {
      "cell_type": "code",
      "execution_count": 2,
      "metadata": {
        "id": "eTdfkMxJyih9"
      },
      "outputs": [],
      "source": [
        "import numpy as np\n",
        "import scipy as sp"
      ]
    },
    {
      "cell_type": "code",
      "source": [
        "%precision 2"
      ],
      "metadata": {
        "colab": {
          "base_uri": "https://localhost:8080/",
          "height": 35
        },
        "id": "tDnmc1xGyxvP",
        "outputId": "89adfa7d-40d8-440e-9f12-4f5cb3f9539c"
      },
      "execution_count": 35,
      "outputs": [
        {
          "output_type": "execute_result",
          "data": {
            "text/plain": [
              "'%.2f'"
            ],
            "application/vnd.google.colaboratory.intrinsic+json": {
              "type": "string"
            }
          },
          "metadata": {},
          "execution_count": 35
        }
      ]
    },
    {
      "cell_type": "code",
      "source": [
        "# 평균값 (기대값)\n",
        "fish_data = np.array([2,3,3,4,4,4,4,5,5,6])\n",
        "N = len (fish_data) \n",
        "sum = np.sum (fish_data)\n",
        "mu = sum/N\n",
        "np.mean(fish_data)"
      ],
      "metadata": {
        "colab": {
          "base_uri": "https://localhost:8080/"
        },
        "id": "pjiz1Izjy2c1",
        "outputId": "3907abcb-18ce-4b02-a6f8-d9218fba10f0"
      },
      "execution_count": 18,
      "outputs": [
        {
          "output_type": "execute_result",
          "data": {
            "text/plain": [
              "4.0"
            ]
          },
          "metadata": {},
          "execution_count": 18
        }
      ]
    },
    {
      "cell_type": "code",
      "source": [
        "# 표본분산\n",
        "sigma_2_sample = np.sum((fish_data - mu) ** 2) / N\n",
        "np.var (fish_data, ddof=0)"
      ],
      "metadata": {
        "colab": {
          "base_uri": "https://localhost:8080/"
        },
        "id": "w67P7z4mz4id",
        "outputId": "6bde0218-8ff1-4581-c5ca-b9c6e018e2f5"
      },
      "execution_count": 21,
      "outputs": [
        {
          "output_type": "execute_result",
          "data": {
            "text/plain": [
              "1.2"
            ]
          },
          "metadata": {},
          "execution_count": 21
        }
      ]
    },
    {
      "cell_type": "code",
      "source": [
        "# 불편분산\n",
        "sigma_2 = np.sum((fish_data-mu) ** 2) / (N-1)\n",
        "np.var (fish_data , ddof=1)"
      ],
      "metadata": {
        "colab": {
          "base_uri": "https://localhost:8080/"
        },
        "id": "IJVX_i0szHC9",
        "outputId": "1b16e95a-7b38-489e-9bb5-e8fef334d42e"
      },
      "execution_count": 23,
      "outputs": [
        {
          "output_type": "execute_result",
          "data": {
            "text/plain": [
              "1.3333333333333333"
            ]
          },
          "metadata": {},
          "execution_count": 23
        }
      ]
    },
    {
      "cell_type": "code",
      "source": [
        "# 표준편차\n",
        "sigma = np.sqrt (sigma_2)\n",
        "np.std (fish_data, ddof = 1)"
      ],
      "metadata": {
        "colab": {
          "base_uri": "https://localhost:8080/"
        },
        "id": "jWcnWjJX1-tO",
        "outputId": "1edf9c49-852f-467a-dc7c-3c25225c5aac"
      },
      "execution_count": 26,
      "outputs": [
        {
          "output_type": "execute_result",
          "data": {
            "text/plain": [
              "1.1547005383792515"
            ]
          },
          "metadata": {},
          "execution_count": 26
        }
      ]
    },
    {
      "cell_type": "code",
      "source": [
        "# 표준화 // 데이터의 평균 0, 표준편차(분산) 1 로 하는 변환\n",
        "fish_data- mu\n",
        "np.mean(fish_data - mu)\n",
        "np.std (fish_data / sigma, ddof = 1)\n",
        "standard = (fish_data - mu) / sigma\n",
        "print (np.mean (standard))\n",
        "print (np.std (standard , ddof =1))"
      ],
      "metadata": {
        "colab": {
          "base_uri": "https://localhost:8080/"
        },
        "id": "Qg57NGAB2LT_",
        "outputId": "ee251b81-2e4c-415f-d552-00eb18c6fa54"
      },
      "execution_count": 38,
      "outputs": [
        {
          "output_type": "stream",
          "name": "stdout",
          "text": [
            "2.2204460492503132e-17\n",
            "1.0\n"
          ]
        }
      ]
    },
    {
      "cell_type": "code",
      "source": [
        "np.amax(fish_data)\n",
        "np.amin(fish_data)\n",
        "np.median (fish_data)"
      ],
      "metadata": {
        "id": "wvPdWxxK3O9u"
      },
      "execution_count": 42,
      "outputs": []
    },
    {
      "cell_type": "code",
      "source": [
        "# 중앙값 이상치에 덜 민감\n",
        "fish_data_2 = np.array([2,3,3,4,4,4,4,5,5,100])\n",
        "np.mean(fish_data_2)\n",
        "np.median (fish_data_2)"
      ],
      "metadata": {
        "colab": {
          "base_uri": "https://localhost:8080/"
        },
        "id": "CxzciiZS2oDO",
        "outputId": "2296dc11-e91d-4e36-d7b5-6073c615ba67"
      },
      "execution_count": 45,
      "outputs": [
        {
          "output_type": "execute_result",
          "data": {
            "text/plain": [
              "4.0"
            ]
          },
          "metadata": {},
          "execution_count": 45
        }
      ]
    },
    {
      "cell_type": "code",
      "source": [
        "# 사분위수 데이터를 순서대로 늘어놓았을때 아래에서부터 25%, 75% 에 해당하는 값\n",
        "from scipy import stats\n",
        "fish_data_3 = np.array([1,2,3,4,5,6,7,8,9])\n",
        "stats.scoreatpercentile(fish_data_3, 25)\n",
        "stats.scoreatpercentile(fish_data_3, 75)"
      ],
      "metadata": {
        "colab": {
          "base_uri": "https://localhost:8080/"
        },
        "id": "2b0FY5q04wxW",
        "outputId": "57180d78-9b08-4636-cc76-fc09437c1c29"
      },
      "execution_count": 49,
      "outputs": [
        {
          "output_type": "execute_result",
          "data": {
            "text/plain": [
              "7.0"
            ]
          },
          "metadata": {},
          "execution_count": 49
        }
      ]
    },
    {
      "cell_type": "code",
      "source": [],
      "metadata": {
        "id": "SiVq7Slf5biu"
      },
      "execution_count": null,
      "outputs": []
    },
    {
      "cell_type": "code",
      "source": [],
      "metadata": {
        "id": "te_2kIhv5UCm"
      },
      "execution_count": null,
      "outputs": []
    }
  ]
}