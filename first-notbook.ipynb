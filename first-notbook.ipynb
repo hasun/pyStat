{
 "cells": [
  {
   "cell_type": "code",
   "execution_count": 1,
   "id": "de6fe8b1",
   "metadata": {
    "_cell_guid": "b1076dfc-b9ad-4769-8c92-a6c4dae69d19",
    "_uuid": "8f2839f25d086af736a60e9eeb907d3b93b6e0e5",
    "execution": {
     "iopub.execute_input": "2023-11-10T15:22:09.884547Z",
     "iopub.status.busy": "2023-11-10T15:22:09.884183Z",
     "iopub.status.idle": "2023-11-10T15:22:10.261807Z",
     "shell.execute_reply": "2023-11-10T15:22:10.260710Z"
    },
    "papermill": {
     "duration": 0.384882,
     "end_time": "2023-11-10T15:22:10.264340",
     "exception": false,
     "start_time": "2023-11-10T15:22:09.879458",
     "status": "completed"
    },
    "tags": []
   },
   "outputs": [
    {
     "name": "stdout",
     "output_type": "stream",
     "text": [
      "/kaggle/input/titanic/train.csv\n",
      "/kaggle/input/titanic/test.csv\n",
      "/kaggle/input/titanic/gender_submission.csv\n"
     ]
    }
   ],
   "source": [
    "# This Python 3 environment comes with many helpful analytics libraries installed\n",
    "# It is defined by the kaggle/python Docker image: https://github.com/kaggle/docker-python\n",
    "# For example, here's several helpful packages to load\n",
    "\n",
    "import numpy as np # linear algebra\n",
    "import pandas as pd # data processing, CSV file I/O (e.g. pd.read_csv)\n",
    "\n",
    "# Input data files are available in the read-only \"../input/\" directory\n",
    "# For example, running this (by clicking run or pressing Shift+Enter) will list all files under the input directory\n",
    "\n",
    "import os\n",
    "for dirname, _, filenames in os.walk('/kaggle/input'):\n",
    "    for filename in filenames:\n",
    "        print(os.path.join(dirname, filename))\n",
    "\n",
    "# You can write up to 20GB to the current directory (/kaggle/working/) that gets preserved as output when you create a version using \"Save & Run All\" \n",
    "# You can also write temporary files to /kaggle/temp/, but they won't be saved outside of the current session"
   ]
  },
  {
   "cell_type": "markdown",
   "id": "2724e8fe",
   "metadata": {
    "papermill": {
     "duration": 0.002585,
     "end_time": "2023-11-10T15:22:10.270246",
     "exception": false,
     "start_time": "2023-11-10T15:22:10.267661",
     "status": "completed"
    },
    "tags": []
   },
   "source": [
    "# Markdown Notebook"
   ]
  },
  {
   "cell_type": "code",
   "execution_count": 2,
   "id": "7027f9e0",
   "metadata": {
    "execution": {
     "iopub.execute_input": "2023-11-10T15:22:10.277159Z",
     "iopub.status.busy": "2023-11-10T15:22:10.276663Z",
     "iopub.status.idle": "2023-11-10T15:22:10.281832Z",
     "shell.execute_reply": "2023-11-10T15:22:10.280791Z"
    },
    "papermill": {
     "duration": 0.011258,
     "end_time": "2023-11-10T15:22:10.284156",
     "exception": false,
     "start_time": "2023-11-10T15:22:10.272898",
     "status": "completed"
    },
    "tags": []
   },
   "outputs": [
    {
     "name": "stdout",
     "output_type": "stream",
     "text": [
      "Hello, Kaggle\n"
     ]
    }
   ],
   "source": [
    "print(\"Hello, Kaggle\")"
   ]
  },
  {
   "cell_type": "code",
   "execution_count": 3,
   "id": "3ae44cb2",
   "metadata": {
    "execution": {
     "iopub.execute_input": "2023-11-10T15:22:10.291506Z",
     "iopub.status.busy": "2023-11-10T15:22:10.290729Z",
     "iopub.status.idle": "2023-11-10T15:22:10.295063Z",
     "shell.execute_reply": "2023-11-10T15:22:10.294384Z"
    },
    "papermill": {
     "duration": 0.009859,
     "end_time": "2023-11-10T15:22:10.296919",
     "exception": false,
     "start_time": "2023-11-10T15:22:10.287060",
     "status": "completed"
    },
    "tags": []
   },
   "outputs": [
    {
     "name": "stdout",
     "output_type": "stream",
     "text": [
      "3.10.12 | packaged by conda-forge | (main, Jun 23 2023, 22:40:32) [GCC 12.3.0]\n"
     ]
    }
   ],
   "source": [
    "import sys\n",
    "print(sys.version)"
   ]
  },
  {
   "cell_type": "code",
   "execution_count": 4,
   "id": "ff484056",
   "metadata": {
    "execution": {
     "iopub.execute_input": "2023-11-10T15:22:10.304151Z",
     "iopub.status.busy": "2023-11-10T15:22:10.303644Z",
     "iopub.status.idle": "2023-11-10T15:22:13.141514Z",
     "shell.execute_reply": "2023-11-10T15:22:13.140494Z"
    },
    "papermill": {
     "duration": 2.844072,
     "end_time": "2023-11-10T15:22:13.143981",
     "exception": false,
     "start_time": "2023-11-10T15:22:10.299909",
     "status": "completed"
    },
    "tags": []
   },
   "outputs": [
    {
     "name": "stdout",
     "output_type": "stream",
     "text": [
      "numpy: 1.24.3\n"
     ]
    }
   ],
   "source": [
    "import numpy, pandas, seaborn, matplotlib, sklearn, scipy, missingno, lightgbm, xgboost\n",
    "print ('numpy:', numpy.__version__)"
   ]
  },
  {
   "cell_type": "code",
   "execution_count": 5,
   "id": "30c28187",
   "metadata": {
    "execution": {
     "iopub.execute_input": "2023-11-10T15:22:13.151306Z",
     "iopub.status.busy": "2023-11-10T15:22:13.150984Z",
     "iopub.status.idle": "2023-11-10T15:22:13.169794Z",
     "shell.execute_reply": "2023-11-10T15:22:13.168971Z"
    },
    "papermill": {
     "duration": 0.024935,
     "end_time": "2023-11-10T15:22:13.172015",
     "exception": false,
     "start_time": "2023-11-10T15:22:13.147080",
     "status": "completed"
    },
    "tags": []
   },
   "outputs": [],
   "source": [
    "import pandas as pd\n",
    "\n",
    "submission = pd.read_csv('/kaggle/input/titanic/gender_submission.csv')\n",
    "submission\n",
    "\n",
    "submission.to_csv('submission.csv', index= False)"
   ]
  }
 ],
 "metadata": {
  "kernelspec": {
   "display_name": "Python 3",
   "language": "python",
   "name": "python3"
  },
  "language_info": {
   "codemirror_mode": {
    "name": "ipython",
    "version": 3
   },
   "file_extension": ".py",
   "mimetype": "text/x-python",
   "name": "python",
   "nbconvert_exporter": "python",
   "pygments_lexer": "ipython3",
   "version": "3.10.12"
  },
  "papermill": {
   "default_parameters": {},
   "duration": 6.990711,
   "end_time": "2023-11-10T15:22:13.794573",
   "environment_variables": {},
   "exception": null,
   "input_path": "__notebook__.ipynb",
   "output_path": "__notebook__.ipynb",
   "parameters": {},
   "start_time": "2023-11-10T15:22:06.803862",
   "version": "2.4.0"
  }
 },
 "nbformat": 4,
 "nbformat_minor": 5
}
