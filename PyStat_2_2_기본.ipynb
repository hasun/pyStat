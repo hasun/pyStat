{
  "nbformat": 4,
  "nbformat_minor": 0,
  "metadata": {
    "colab": {
      "provenance": [],
      "authorship_tag": "ABX9TyP8wYMpSMF9aqkrmzbR/Jiq",
      "include_colab_link": true
    },
    "kernelspec": {
      "name": "python3",
      "display_name": "Python 3"
    },
    "language_info": {
      "name": "python"
    }
  },
  "cells": [
    {
      "cell_type": "markdown",
      "metadata": {
        "id": "view-in-github",
        "colab_type": "text"
      },
      "source": [
        "<a href=\"https://colab.research.google.com/github/hasun/pyStat/blob/master/PyStat_2_2_%EA%B8%B0%EB%B3%B8.ipynb\" target=\"_parent\"><img src=\"https://colab.research.google.com/assets/colab-badge.svg\" alt=\"Open In Colab\"/></a>"
      ]
    },
    {
      "cell_type": "code",
      "execution_count": 5,
      "metadata": {
        "id": "SDlh9Uyieo9F"
      },
      "outputs": [],
      "source": [
        "import numpy as np"
      ]
    },
    {
      "cell_type": "code",
      "source": [
        "np.arange(start=1,stop=6,step=1)"
      ],
      "metadata": {
        "colab": {
          "base_uri": "https://localhost:8080/"
        },
        "id": "GhI-MQ52fGuO",
        "outputId": "385d5dc9-17f8-492f-8869-29e1518c52a5"
      },
      "execution_count": 13,
      "outputs": [
        {
          "output_type": "execute_result",
          "data": {
            "text/plain": [
              "array([1, 2, 3, 4, 5])"
            ]
          },
          "metadata": {},
          "execution_count": 13
        }
      ]
    },
    {
      "cell_type": "code",
      "source": [
        "np.tile (\"A\",5)"
      ],
      "metadata": {
        "colab": {
          "base_uri": "https://localhost:8080/"
        },
        "id": "a5iwbiGBfYlK",
        "outputId": "059c0bab-9daa-4aa0-fd13-8680cf7cec96"
      },
      "execution_count": 14,
      "outputs": [
        {
          "output_type": "execute_result",
          "data": {
            "text/plain": [
              "array(['A', 'A', 'A', 'A', 'A'], dtype='<U1')"
            ]
          },
          "metadata": {},
          "execution_count": 14
        }
      ]
    },
    {
      "cell_type": "code",
      "source": [
        "np.zeros([2,3])"
      ],
      "metadata": {
        "colab": {
          "base_uri": "https://localhost:8080/"
        },
        "id": "V0MaaqqifkfK",
        "outputId": "1efa1c05-4dcd-46ef-c3bf-8799feb7a294"
      },
      "execution_count": 15,
      "outputs": [
        {
          "output_type": "execute_result",
          "data": {
            "text/plain": [
              "array([[0., 0., 0.],\n",
              "       [0., 0., 0.]])"
            ]
          },
          "metadata": {},
          "execution_count": 15
        }
      ]
    },
    {
      "cell_type": "code",
      "source": [
        "np.ones(3)"
      ],
      "metadata": {
        "colab": {
          "base_uri": "https://localhost:8080/"
        },
        "id": "2njNQIAOgEey",
        "outputId": "ac2223b2-e1f5-491b-f928-62262c020fe7"
      },
      "execution_count": 16,
      "outputs": [
        {
          "output_type": "execute_result",
          "data": {
            "text/plain": [
              "array([1., 1., 1.])"
            ]
          },
          "metadata": {},
          "execution_count": 16
        }
      ]
    },
    {
      "cell_type": "code",
      "source": [
        "d1_array = np.array([1,2,3,4,5])\n",
        "d1_array"
      ],
      "metadata": {
        "colab": {
          "base_uri": "https://localhost:8080/"
        },
        "id": "24kgx6_8gIFa",
        "outputId": "f3ef0fca-458d-4853-8558-7baccece1b3e"
      },
      "execution_count": 17,
      "outputs": [
        {
          "output_type": "execute_result",
          "data": {
            "text/plain": [
              "array([1, 2, 3, 4, 5])"
            ]
          },
          "metadata": {},
          "execution_count": 17
        }
      ]
    },
    {
      "cell_type": "code",
      "source": [
        "d1_array[1:3]"
      ],
      "metadata": {
        "colab": {
          "base_uri": "https://localhost:8080/"
        },
        "id": "PC3RHnlYgVbr",
        "outputId": "e98e420c-42c7-4e33-e57c-f6425e518c9d"
      },
      "execution_count": 18,
      "outputs": [
        {
          "output_type": "execute_result",
          "data": {
            "text/plain": [
              "array([2, 3])"
            ]
          },
          "metadata": {},
          "execution_count": 18
        }
      ]
    },
    {
      "cell_type": "code",
      "source": [
        "d2_array = np.array ([[1,2,3,4,5],[6,7,8,9,10]])"
      ],
      "metadata": {
        "id": "J2PBB3wOgrhL"
      },
      "execution_count": 19,
      "outputs": []
    },
    {
      "cell_type": "code",
      "source": [
        "d2_array[1, 2:4]"
      ],
      "metadata": {
        "colab": {
          "base_uri": "https://localhost:8080/"
        },
        "id": "hmXrPOBehOsi",
        "outputId": "55a0e307-9122-4983-f7a5-5d7b9463d813"
      },
      "execution_count": 20,
      "outputs": [
        {
          "output_type": "execute_result",
          "data": {
            "text/plain": [
              "array([8, 9])"
            ]
          },
          "metadata": {},
          "execution_count": 20
        }
      ]
    },
    {
      "cell_type": "code",
      "source": [
        "import pandas as pd"
      ],
      "metadata": {
        "id": "cwnMBF-MhWBy"
      },
      "execution_count": 21,
      "outputs": []
    },
    {
      "cell_type": "code",
      "source": [
        "sample_array = {1,2,3,4,5}\n",
        "sample_df = pd.DataFrame ({'col1' : d1_array,\n",
        "                           'col2' : d1_array*2,\n",
        "                           'col3' : [\"A\",\"B\",\"C\",\"D\",\"E\"]\n",
        "                           })\n",
        "print (sample_df)"
      ],
      "metadata": {
        "colab": {
          "base_uri": "https://localhost:8080/"
        },
        "id": "NTLKsQB1hZ7q",
        "outputId": "a785a6c3-62f4-407a-9bfa-c2b9a6d9d39e"
      },
      "execution_count": 22,
      "outputs": [
        {
          "output_type": "stream",
          "name": "stdout",
          "text": [
            "   col1  col2 col3\n",
            "0     1     2    A\n",
            "1     2     4    B\n",
            "2     3     6    C\n",
            "3     4     8    D\n",
            "4     5    10    E\n"
          ]
        }
      ]
    },
    {
      "cell_type": "code",
      "source": [
        "file_data = pd.read_csv(\"/content/sample_data/california_housing_train.csv\")\n",
        "print (file_data)"
      ],
      "metadata": {
        "colab": {
          "base_uri": "https://localhost:8080/"
        },
        "id": "s2hvldwEhuvK",
        "outputId": "a44713f3-8b5e-4a9b-dd1a-cf965a4dec9f"
      },
      "execution_count": 9,
      "outputs": [
        {
          "output_type": "stream",
          "name": "stdout",
          "text": [
            "       longitude  latitude  housing_median_age  total_rooms  total_bedrooms  \\\n",
            "0        -114.31     34.19                15.0       5612.0          1283.0   \n",
            "1        -114.47     34.40                19.0       7650.0          1901.0   \n",
            "2        -114.56     33.69                17.0        720.0           174.0   \n",
            "3        -114.57     33.64                14.0       1501.0           337.0   \n",
            "4        -114.57     33.57                20.0       1454.0           326.0   \n",
            "...          ...       ...                 ...          ...             ...   \n",
            "16995    -124.26     40.58                52.0       2217.0           394.0   \n",
            "16996    -124.27     40.69                36.0       2349.0           528.0   \n",
            "16997    -124.30     41.84                17.0       2677.0           531.0   \n",
            "16998    -124.30     41.80                19.0       2672.0           552.0   \n",
            "16999    -124.35     40.54                52.0       1820.0           300.0   \n",
            "\n",
            "       population  households  median_income  median_house_value  \n",
            "0          1015.0       472.0         1.4936             66900.0  \n",
            "1          1129.0       463.0         1.8200             80100.0  \n",
            "2           333.0       117.0         1.6509             85700.0  \n",
            "3           515.0       226.0         3.1917             73400.0  \n",
            "4           624.0       262.0         1.9250             65500.0  \n",
            "...           ...         ...            ...                 ...  \n",
            "16995       907.0       369.0         2.3571            111400.0  \n",
            "16996      1194.0       465.0         2.5179             79000.0  \n",
            "16997      1244.0       456.0         3.0313            103600.0  \n",
            "16998      1298.0       478.0         1.9797             85800.0  \n",
            "16999       806.0       270.0         3.0147             94600.0  \n",
            "\n",
            "[17000 rows x 9 columns]\n"
          ]
        }
      ]
    },
    {
      "cell_type": "code",
      "source": [
        "df_1 = pd.DataFrame({'col1': np.array([1,2,3]),'col2': np.array(['A','B','C'])})\n",
        "df_2 = pd.DataFrame({'col1': np.array([4,5,6]),'col2': np.array(['D','E','F'])})\n",
        "\n",
        "print (pd.concat([df_1,df_2]))\n",
        "print (pd.concat([df_1,df_2], axis=1))"
      ],
      "metadata": {
        "colab": {
          "base_uri": "https://localhost:8080/"
        },
        "id": "sqBpAvb8u5rd",
        "outputId": "84771f34-521f-4fa1-9581-fd254cabd337"
      },
      "execution_count": 23,
      "outputs": [
        {
          "output_type": "stream",
          "name": "stdout",
          "text": [
            "   col1 col2\n",
            "0     1    A\n",
            "1     2    B\n",
            "2     3    C\n",
            "0     4    D\n",
            "1     5    E\n",
            "2     6    F\n",
            "   col1 col2  col1 col2\n",
            "0     1    A     4    D\n",
            "1     2    B     5    E\n",
            "2     3    C     6    F\n"
          ]
        }
      ]
    },
    {
      "cell_type": "code",
      "source": [
        "print (sample_df.col2)\n",
        "print (sample_df[\"col2\"])\n",
        "print (sample_df[[\"col2\",\"col3\"]])\n",
        "print (sample_df.drop (\"col1\", axis=1))"
      ],
      "metadata": {
        "colab": {
          "base_uri": "https://localhost:8080/"
        },
        "id": "SdS4BPxQvym6",
        "outputId": "592b7182-6b0b-4245-fbe8-ba44c6dceffe"
      },
      "execution_count": 26,
      "outputs": [
        {
          "output_type": "stream",
          "name": "stdout",
          "text": [
            "0     2\n",
            "1     4\n",
            "2     6\n",
            "3     8\n",
            "4    10\n",
            "Name: col2, dtype: int64\n",
            "0     2\n",
            "1     4\n",
            "2     6\n",
            "3     8\n",
            "4    10\n",
            "Name: col2, dtype: int64\n",
            "   col2 col3\n",
            "0     2    A\n",
            "1     4    B\n",
            "2     6    C\n",
            "3     8    D\n",
            "4    10    E\n",
            "   col2 col3\n",
            "0     2    A\n",
            "1     4    B\n",
            "2     6    C\n",
            "3     8    D\n",
            "4    10    E\n"
          ]
        }
      ]
    },
    {
      "cell_type": "code",
      "source": [
        "print (sample_df.head(n=3))\n",
        "print (sample_df.query('index==0'))\n",
        "print (sample_df.query('col3==\"A\"'))\n",
        "print (sample_df.query('col3==\"A\" | col3== \"D\"'))\n",
        "print (sample_df.query('col3==\"A\"')[[\"col2\",\"col3\"]])"
      ],
      "metadata": {
        "colab": {
          "base_uri": "https://localhost:8080/"
        },
        "id": "kxNzlguMwmn9",
        "outputId": "933361bb-3006-4a1e-b361-bfada3f6fc69"
      },
      "execution_count": 31,
      "outputs": [
        {
          "output_type": "stream",
          "name": "stdout",
          "text": [
            "   col1  col2 col3\n",
            "0     1     2    A\n",
            "1     2     4    B\n",
            "2     3     6    C\n",
            "   col1  col2 col3\n",
            "0     1     2    A\n",
            "   col1  col2 col3\n",
            "0     1     2    A\n",
            "   col1  col2 col3\n",
            "0     1     2    A\n",
            "3     4     8    D\n",
            "   col2 col3\n",
            "0     2    A\n"
          ]
        }
      ]
    },
    {
      "cell_type": "code",
      "source": [
        "type(sample_df.col1)\n",
        "type(np.array(sample_df.col1))\n",
        "type(sample_df.col1.values)"
      ],
      "metadata": {
        "colab": {
          "base_uri": "https://localhost:8080/"
        },
        "id": "gI0MJig1xOWO",
        "outputId": "804baa5a-42e4-4044-c535-b5f3f179d167"
      },
      "execution_count": 34,
      "outputs": [
        {
          "output_type": "execute_result",
          "data": {
            "text/plain": [
              "numpy.ndarray"
            ]
          },
          "metadata": {},
          "execution_count": 34
        }
      ]
    }
  ]
}